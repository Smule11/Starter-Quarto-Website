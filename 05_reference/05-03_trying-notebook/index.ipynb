{
 "cells": [
  {
   "cell_type": "raw",
   "metadata": {},
   "source": [
    "---\n",
    "title: No Soft-Error Notebook on Render Attempt\n",
    "author: Sam Llanwarne\n",
    "date: '2023-01-22'\n",
    "categories:\n",
    "  - code\n",
    "  - document\n",
    "  - guide\n",
    "title-block-banner: true\n",
    "# jupyter: python3\n",
    "---\n",
    "\n",
    "\n",
    "![](no-error-notebook_alexander-sinn-KgLtFCgfC28-unsplash.jpg){style=\"height: 300px; width: 100%; object-fit: cover; object-position: 50% 20%;\"}\n",
    "\n",
    "So sometimes when you run a notebook you get a soft listing error. \n",
    "\n",
    "I'll do an a b test to try and avoid it.\n",
    "\n",
    "I'll write all in raw, and I'll also play with the jupyter engine thing in the YAML."
   ]
  }
 ],
 "metadata": {
  "kernelspec": {
   "display_name": "Python 3",
   "language": "python",
   "name": "python3"
  },
  "language_info": {
   "name": "python",
   "version": "3.9.13 (tags/v3.9.13:6de2ca5, May 17 2022, 16:36:42) [MSC v.1929 64 bit (AMD64)]"
  },
  "orig_nbformat": 4,
  "vscode": {
   "interpreter": {
    "hash": "11938c6bc6919ae2720b4d5011047913343b08a43b18698fd82dedb0d4417594"
   }
  }
 },
 "nbformat": 4,
 "nbformat_minor": 2
}
